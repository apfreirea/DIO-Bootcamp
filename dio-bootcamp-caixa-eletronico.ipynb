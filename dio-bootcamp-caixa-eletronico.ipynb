{
 "cells": [
  {
   "cell_type": "markdown",
   "metadata": {},
   "source": [
    "#  Caixa Eletrônico"
   ]
  },
  {
   "cell_type": "markdown",
   "metadata": {},
   "source": [
    "Criando um sistema bancário com operações: saque, depósito e extrato."
   ]
  },
  {
   "cell_type": "code",
   "execution_count": 18,
   "metadata": {},
   "outputs": [
    {
     "name": "stdout",
     "output_type": "stream",
     "text": [
      "----------------------------------------\n",
      "      Bem-vindo ao Banco DIO!      \n",
      "----------------------------------------\n",
      "Seu depósito no valor de R$740.00 foi realizado com sucesso!\n",
      "Saque no valor de R$300.00 realizado com sucesso! Restam 2 saques no dia.\n",
      "Acessando seu extrato...\n",
      "----------------------------------------\n",
      "          EXTRATO BANCÁRIO         \n",
      "----------------------------------------\n",
      "Depósito   R$740.00 \n",
      "Saque   R$300.00 \n",
      "\n",
      "----------------------------------------\n",
      "Seu saldo é de R$440.00\n",
      "----------------------------------------\n",
      "Obrigada pela preferência. Até a próxima!\n"
     ]
    }
   ],
   "source": [
    "def Cabecalho(text):\n",
    "    print('--'*20)\n",
    "    print(text.center(35))\n",
    "    print('--'*20)\n",
    "\n",
    "\n",
    "Cabecalho(text='Bem-vindo ao Banco DIO!')\n",
    "extrato = \"\"  # Corrigido para uma string para armazenar o extrato.\n",
    "saldo = 0\n",
    "num_saque = 3\n",
    "limite_saque = 500\n",
    "\n",
    "menu = \"\"\"\n",
    "[1] Depositar\n",
    "[2] Sacar\n",
    "[3] Extrato\n",
    "[4] Sair\n",
    "\n",
    "\"\"\"\n",
    "\n",
    "while True:\n",
    "    operacao = int(input(menu))\n",
    "\n",
    "    if operacao == 1:  # Depósito\n",
    "        valor_deposito = float(input('Qual valor deseja depositar?'))\n",
    "        if valor_deposito <= 0:\n",
    "            print('Valor inválido! Por favor, insira um valor positivo.')\n",
    "        else:\n",
    "            saldo += valor_deposito\n",
    "            extrato += f\"Depósito   R${valor_deposito:.2f} \\n\"\n",
    "            print(f'Seu depósito no valor de R${valor_deposito:.2f} foi realizado com sucesso!')\n",
    "\n",
    "    elif operacao == 2:  # Saque\n",
    "        if num_saque == 0:\n",
    "            print('Limite de saques diários atingido! Tente novamente amanhã.')\n",
    "        else:\n",
    "            valor_saque = float(input('Qual valor deseja sacar? '))\n",
    "            if valor_saque <= 0:\n",
    "                print('Não é possível sacar esse valor!')\n",
    "            elif valor_saque > limite_saque:\n",
    "                print(f'Não é possível realizar saques maiores que R${limite_saque}. Tente outro valor!')\n",
    "            elif valor_saque > saldo:\n",
    "                print('Você não possui saldo suficiente! Tente outro valor!')\n",
    "            else:\n",
    "                saldo -= valor_saque\n",
    "                num_saque -= 1\n",
    "                extrato += f\"Saque   R${valor_saque:.2f} \\n\"\n",
    "                print(f'Saque no valor de R${valor_saque:.2f} realizado com sucesso! Restam {num_saque} saques no dia.')\n",
    "\n",
    "    elif operacao == 3:  # Extrato\n",
    "        print('Acessando seu extrato...')\n",
    "        Cabecalho('EXTRATO BANCÁRIO')\n",
    "        if not extrato:\n",
    "            print('Não foram realizadas movimentações.')\n",
    "        else:\n",
    "            print(extrato)\n",
    "        print('--'*20)\n",
    "        print(f'Seu saldo é de R${saldo:.2f}')\n",
    "        print('--'*20)\n",
    "\n",
    "    elif operacao == 4:  # Sair\n",
    "        print('Obrigada pela preferência. Até a próxima!')\n",
    "        break\n",
    "\n",
    "    else:\n",
    "        print('Operação inválida! Selecione uma opção válida.')\n",
    "\n",
    "    # Perguntar se deseja realizar outra operação\n",
    "    nova_operacao = input('Deseja realizar uma nova operação? (S/N): ').strip().upper()\n",
    "    if nova_operacao != 'S':\n",
    "        print('Obrigada pela preferência. Até a próxima!')\n",
    "        break\n"
   ]
  }
 ],
 "metadata": {
  "kernelspec": {
   "display_name": "Python 3",
   "language": "python",
   "name": "python3"
  },
  "language_info": {
   "codemirror_mode": {
    "name": "ipython",
    "version": 3
   },
   "file_extension": ".py",
   "mimetype": "text/x-python",
   "name": "python",
   "nbconvert_exporter": "python",
   "pygments_lexer": "ipython3",
   "version": "3.11.9"
  }
 },
 "nbformat": 4,
 "nbformat_minor": 2
}
