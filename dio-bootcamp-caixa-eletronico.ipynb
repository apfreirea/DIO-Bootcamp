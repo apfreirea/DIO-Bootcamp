{
 "cells": [
  {
   "cell_type": "markdown",
   "metadata": {},
   "source": [
    "#  Caixa Eletrônico"
   ]
  },
  {
   "cell_type": "markdown",
   "metadata": {},
   "source": [
    "Criando um sistema bancário com operações: saque, depósito e extrato."
   ]
  },
  {
   "cell_type": "code",
   "execution_count": 42,
   "metadata": {},
   "outputs": [],
   "source": [
    "from datetime import date, datetime"
   ]
  },
  {
   "cell_type": "code",
   "execution_count": 43,
   "metadata": {},
   "outputs": [],
   "source": [
    "def Cabecalho(text):\n",
    "    print('-.'*26)\n",
    "    print(text.center(40))\n",
    "    print('-.'*26)"
   ]
  },
  {
   "cell_type": "code",
   "execution_count": 44,
   "metadata": {},
   "outputs": [],
   "source": [
    "extrato = []\n",
    "num_saque = 3\n",
    "limite_saque = 500\n",
    "saldo = 0 \n",
    "tt_transacao = 10"
   ]
  },
  {
   "cell_type": "code",
   "execution_count": 46,
   "metadata": {},
   "outputs": [
    {
     "name": "stdout",
     "output_type": "stream",
     "text": [
      "-.-.-.-.-.-.-.-.-.-.-.-.-.-.-.-.-.-.-.-.-.-.-.-.-.-.\n",
      "        Bem-vindo ao Banco DIO!         \n",
      "-.-.-.-.-.-.-.-.-.-.-.-.-.-.-.-.-.-.-.-.-.-.-.-.-.-.\n",
      "--------------------------------------------\n",
      " [1] Depositar \n",
      " [2] Sacar \n",
      " [3] Extrato \n",
      " [4] Sair\n",
      "--------------------------------------------\n"
     ]
    },
    {
     "name": "stdout",
     "output_type": "stream",
     "text": [
      "Depósito de R$1500.00 foi realizado com sucesso!\n",
      "--------------------------------------------\n",
      " [1] Depositar \n",
      " [2] Sacar \n",
      " [3] Extrato \n",
      " [4] Sair\n",
      "--------------------------------------------\n",
      "Saque no valor de R$300.00 realizado com sucesso! Restam 0 saques no dia.\n",
      "--------------------------------------------\n",
      " [1] Depositar \n",
      " [2] Sacar \n",
      " [3] Extrato \n",
      " [4] Sair\n",
      "--------------------------------------------\n",
      "Acessando seu extrato...\n",
      "-.-.-.-.-.-.-.-.-.-.-.-.-.-.-.-.-.-.-.-.-.-.-.-.-.-.\n",
      "            EXTRATO BANCÁRIO            \n",
      "-.-.-.-.-.-.-.-.-.-.-.-.-.-.-.-.-.-.-.-.-.-.-.-.-.-.\n",
      "Depósito: R$500.00    Data: 2024-10-25\n",
      "Saque     : R$-200.00    Data: 2024-10-25\n",
      "Saque     : R$-200.00    Data: 2024-10-25\n",
      "Depósito: R$1500.00    Data: 2024-10-25\n",
      "Saque     : R$-300.00    Data: 2024-10-25\n",
      "-.-.-.-.-.-.-.-.-.-.-.-.-.-.-.-.-.-.-.-.-.-.-.-.-.-.\n",
      "Seu saldo é de R$1300.00\n",
      "-.-.-.-.-.-.-.-.-.-.-.-.-.-.-.-.-.-.-.-.-.-.-.-.-.-.\n",
      "Obrigada pela preferência. Até a próxima!\n"
     ]
    }
   ],
   "source": [
    "\n",
    "Cabecalho(text='Bem-vindo ao Banco DIO!')\n",
    "\n",
    "\n",
    "\n",
    "\n",
    "\n",
    "\n",
    "while True:\n",
    "    # Cabecalho(text='Bem-vindo ao Banco DIO!')\n",
    "    print('--'*22)\n",
    "    print(' [1] Depositar \\n [2] Sacar \\n [3] Extrato \\n [4] Sair')\n",
    "    print('--'*22)\n",
    "\n",
    "    operacao = int(input('Qual operação deseja realizar? '))\n",
    "\n",
    "    if operacao == 1:  \n",
    "        valor_deposito = float(input('Qual valor deseja depositar?'))\n",
    "        if valor_deposito <= 0:\n",
    "            print('Valor inválido! Por favor, insira um valor positivo.')\n",
    "        else:\n",
    "            saldo += valor_deposito\n",
    "            tt_transacoes -= 1 \n",
    "            extrato.append({'acao': 'Depósito', 'valor': valor_deposito, 'horario': date.today()})\n",
    "            print(f'Depósito de R${valor_deposito:.2f} foi realizado com sucesso!')\n",
    "\n",
    "    elif operacao == 2: \n",
    "        if num_saque == 0:\n",
    "            print('Limite de saques diários atingido! Tente novamente amanhã.')\n",
    "        else:\n",
    "            valor_saque = float(input('Qual valor deseja sacar? '))\n",
    "            if valor_saque <= 0:\n",
    "                print('Não é possível sacar esse valor!')\n",
    "            elif valor_saque > limite_saque:\n",
    "                print(f'Não é possível realizar saques maiores que R${limite_saque}. Tente outro valor!')\n",
    "            elif valor_saque > saldo:\n",
    "                print('Você não possui saldo suficiente! Tente outro valor!')\n",
    "            else:\n",
    "                saldo -= valor_saque\n",
    "                num_saque -= 1\n",
    "                tt_transacoes -= 1 \n",
    "                extrato.append({'acao': 'Saque     ', 'valor': -valor_saque, 'horario':date.today()})\n",
    "                print(f'Saque no valor de R${valor_saque:.2f} realizado com sucesso! Restam {num_saque} saques no dia.')\n",
    "\n",
    "    elif operacao == 3: \n",
    "        print('Acessando seu extrato...')\n",
    "        Cabecalho('EXTRATO BANCÁRIO')\n",
    "        if not extrato:\n",
    "            print('Não foram realizadas movimentações.')\n",
    "        else:\n",
    "            tt_transacoes -= 1 \n",
    "            for transacao in extrato:\n",
    "                print(f\"{transacao['acao']}: R${transacao['valor']:.2f}    Data: {transacao['horario']}\")\n",
    "            print('-.'*26)\n",
    "            print(f'Seu saldo é de R${saldo:.2f}')\n",
    "            print('-.'*26)\n",
    "\n",
    "    elif operacao == 4: \n",
    "        print('-.'*26)\n",
    "        print('Obrigada pela preferência. \\n Até a próxima!')\n",
    "        print('-.'*26)\n",
    "        break\n",
    "\n",
    "    else:\n",
    "        print('Operação inválida! Selecione uma opção válida.')\n",
    "\n",
    "    # Outra operações\n",
    "    if tt_transacao == 0:\n",
    "        print('Você atingiu o limite de 10 transações diárias! \\n Tente novamente amanhã!')\n",
    "        print('-.'*26)\n",
    "        print('Obrigada pela preferência. \\n Até a próxima!')\n",
    "        print('-.'*26)\n",
    "        break\n",
    "    nova_operacao = input('Deseja realizar uma nova operação? (S/N): ').strip().upper()\n",
    "    if nova_operacao != 'S':\n",
    "        print('Obrigada pela preferência. Até a próxima!')\n",
    "        break\n"
   ]
  },
  {
   "cell_type": "code",
   "execution_count": null,
   "metadata": {},
   "outputs": [],
   "source": []
  }
 ],
 "metadata": {
  "kernelspec": {
   "display_name": "Python 3",
   "language": "python",
   "name": "python3"
  },
  "language_info": {
   "codemirror_mode": {
    "name": "ipython",
    "version": 3
   },
   "file_extension": ".py",
   "mimetype": "text/x-python",
   "name": "python",
   "nbconvert_exporter": "python",
   "pygments_lexer": "ipython3",
   "version": "3.11.9"
  }
 },
 "nbformat": 4,
 "nbformat_minor": 2
}
